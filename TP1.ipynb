{
 "cells": [
  {
   "cell_type": "markdown",
   "metadata": {},
   "source": [
    "<h1>TP1: Analyse Factorielle des Correspondances</h1>"
   ]
  },
  {
   "cell_type": "markdown",
   "metadata": {},
   "source": [
    "<h2>I. ACP et SVD</h2>"
   ]
  },
  {
   "cell_type": "markdown",
   "metadata": {},
   "source": [
    "<p>1.La classe de l'objets est un data.frame de dimension 50x4</p>"
   ]
  },
  {
   "cell_type": "code",
   "execution_count": 32,
   "metadata": {
    "collapsed": false
   },
   "outputs": [],
   "source": [
    "data(\"USArrests\")"
   ]
  },
  {
   "cell_type": "code",
   "execution_count": 33,
   "metadata": {
    "collapsed": false,
    "scrolled": true
   },
   "outputs": [
    {
     "data": {
      "text/html": [
       "<table>\n",
       "<thead><tr><th></th><th scope=col>Murder</th><th scope=col>Assault</th><th scope=col>UrbanPop</th><th scope=col>Rape</th></tr></thead>\n",
       "<tbody>\n",
       "\t<tr><th scope=row>Alabama</th><td>13.2</td><td>236</td><td>58</td><td>21.2</td></tr>\n",
       "\t<tr><th scope=row>Alaska</th><td>10</td><td>263</td><td>48</td><td>44.5</td></tr>\n",
       "\t<tr><th scope=row>Arizona</th><td>8.1</td><td>294</td><td>80</td><td>31</td></tr>\n",
       "\t<tr><th scope=row>Arkansas</th><td>8.8</td><td>190</td><td>50</td><td>19.5</td></tr>\n",
       "\t<tr><th scope=row>California</th><td>9</td><td>276</td><td>91</td><td>40.6</td></tr>\n",
       "\t<tr><th scope=row>Colorado</th><td>7.9</td><td>204</td><td>78</td><td>38.7</td></tr>\n",
       "</tbody>\n",
       "</table>\n"
      ],
      "text/latex": [
       "\\begin{tabular}{r|llll}\n",
       "  & Murder & Assault & UrbanPop & Rape\\\\\n",
       "\\hline\n",
       "\tAlabama & 13.2 & 236 & 58 & 21.2\\\\\n",
       "\tAlaska & 10 & 263 & 48 & 44.5\\\\\n",
       "\tArizona & 8.1 & 294 & 80 & 31\\\\\n",
       "\tArkansas & 8.8 & 190 & 50 & 19.5\\\\\n",
       "\tCalifornia & 9 & 276 & 91 & 40.6\\\\\n",
       "\tColorado & 7.9 & 204 & 78 & 38.7\\\\\n",
       "\\end{tabular}\n"
      ],
      "text/plain": [
       "           Murder Assault UrbanPop Rape\n",
       "Alabama      13.2     236       58 21.2\n",
       "Alaska       10.0     263       48 44.5\n",
       "Arizona       8.1     294       80 31.0\n",
       "Arkansas      8.8     190       50 19.5\n",
       "California    9.0     276       91 40.6\n",
       "Colorado      7.9     204       78 38.7"
      ]
     },
     "execution_count": 33,
     "metadata": {},
     "output_type": "execute_result"
    }
   ],
   "source": [
    "head(USArrests)"
   ]
  },
  {
   "cell_type": "code",
   "execution_count": 34,
   "metadata": {
    "collapsed": false,
    "scrolled": false
   },
   "outputs": [
    {
     "data": {
      "text/html": [
       "<ol class=list-inline>\n",
       "\t<li>50</li>\n",
       "\t<li>4</li>\n",
       "</ol>\n"
      ],
      "text/latex": [
       "\\begin{enumerate*}\n",
       "\\item 50\n",
       "\\item 4\n",
       "\\end{enumerate*}\n"
      ],
      "text/markdown": [
       "1. 50\n",
       "2. 4\n",
       "\n",
       "\n"
      ],
      "text/plain": [
       "[1] 50  4"
      ]
     },
     "execution_count": 34,
     "metadata": {},
     "output_type": "execute_result"
    },
    {
     "data": {
      "text/html": [
       "'data.frame'"
      ],
      "text/latex": [
       "'data.frame'"
      ],
      "text/markdown": [
       "'data.frame'"
      ],
      "text/plain": [
       "[1] \"data.frame\""
      ]
     },
     "execution_count": 34,
     "metadata": {},
     "output_type": "execute_result"
    }
   ],
   "source": [
    "dim(USArrests);\n",
    "class(USArrests);"
   ]
  },
  {
   "cell_type": "markdown",
   "metadata": {},
   "source": [
    "2."
   ]
  },
  {
   "cell_type": "code",
   "execution_count": 37,
   "metadata": {
    "collapsed": false
   },
   "outputs": [
    {
     "data": {
      "text/html": [
       "<table>\n",
       "<thead><tr><th></th><th scope=col>Comp.1</th><th scope=col>Comp.2</th><th scope=col>Comp.3</th><th scope=col>Comp.4</th></tr></thead>\n",
       "<tbody>\n",
       "\t<tr><th scope=row>Alabama</th><td>-0.9855659</td><td> 1.1333924</td><td>-0.4442688</td><td> 0.1562671</td></tr>\n",
       "\t<tr><th scope=row>Alaska</th><td>-1.9501378</td><td> 1.0732133</td><td> 2.0400033</td><td>-0.4385834</td></tr>\n",
       "\t<tr><th scope=row>Arizona</th><td>-1.76316354</td><td>-0.74595678</td><td> 0.05478082</td><td>-0.83465292</td></tr>\n",
       "\t<tr><th scope=row>Arkansas</th><td> 0.1414203</td><td> 1.1197968</td><td> 0.1145737</td><td>-0.1828109</td></tr>\n",
       "\t<tr><th scope=row>California</th><td>-2.5239801</td><td>-1.5429340</td><td> 0.5985568</td><td>-0.3419965</td></tr>\n",
       "\t<tr><th scope=row>Colorado</th><td>-1.514562861</td><td>-0.987555085</td><td> 1.095006992</td><td> 0.001464887</td></tr>\n",
       "</tbody>\n",
       "</table>\n"
      ],
      "text/latex": [
       "\\begin{tabular}{r|llll}\n",
       "  & Comp.1 & Comp.2 & Comp.3 & Comp.4\\\\\n",
       "\\hline\n",
       "\tAlabama & -0.9855659 &  1.1333924 & -0.4442688 &  0.1562671\\\\\n",
       "\tAlaska & -1.9501378 &  1.0732133 &  2.0400033 & -0.4385834\\\\\n",
       "\tArizona & -1.76316354 & -0.74595678 &  0.05478082 & -0.83465292\\\\\n",
       "\tArkansas &  0.1414203 &  1.1197968 &  0.1145737 & -0.1828109\\\\\n",
       "\tCalifornia & -2.5239801 & -1.5429340 &  0.5985568 & -0.3419965\\\\\n",
       "\tColorado & -1.514562861 & -0.987555085 &  1.095006992 &  0.001464887\\\\\n",
       "\\end{tabular}\n"
      ],
      "text/markdown": [
       "1. -0.985565884503143\n",
       "2. -1.95013775033502\n",
       "3. -1.76316353972298\n",
       "4. 0.141420289868355\n",
       "5. -2.52398012651925\n",
       "6. -1.51456286110159\n",
       "7. 1.13339237770997\n",
       "8. 1.07321325616849\n",
       "9. -0.745956780637291\n",
       "10. 1.11979678418355\n",
       "11. -1.54293398865821\n",
       "12. -0.987555085168417\n",
       "13. -0.444268787550732\n",
       "14. 2.04000333289159\n",
       "15. 0.0547808243262832\n",
       "16. 0.114573691853362\n",
       "17. 0.598556798722446\n",
       "18. 1.09500699201534\n",
       "19. 0.156267144919713\n",
       "20. -0.438583439947191\n",
       "21. -0.834652924308098\n",
       "22. -0.182810896293142\n",
       "23. -0.341996477783837\n",
       "24. 0.0014648870296935\n",
       "\n",
       "\n"
      ],
      "text/plain": [
       "               Comp.1     Comp.2      Comp.3       Comp.4\n",
       "Alabama    -0.9855659  1.1333924 -0.44426879  0.156267145\n",
       "Alaska     -1.9501378  1.0732133  2.04000333 -0.438583440\n",
       "Arizona    -1.7631635 -0.7459568  0.05478082 -0.834652924\n",
       "Arkansas    0.1414203  1.1197968  0.11457369 -0.182810896\n",
       "California -2.5239801 -1.5429340  0.59855680 -0.341996478\n",
       "Colorado   -1.5145629 -0.9875551  1.09500699  0.001464887"
      ]
     },
     "execution_count": 37,
     "metadata": {},
     "output_type": "execute_result"
    }
   ],
   "source": [
    "head(princomp(USArrests,cor=TRUE)$scores)"
   ]
  },
  {
   "cell_type": "code",
   "execution_count": 38,
   "metadata": {
    "collapsed": false
   },
   "outputs": [
    {
     "data": {
      "text/html": [
       "<table>\n",
       "<thead><tr><th></th><th scope=col>PC1</th><th scope=col>PC2</th><th scope=col>PC3</th><th scope=col>PC4</th></tr></thead>\n",
       "<tbody>\n",
       "\t<tr><th scope=row>Alabama</th><td>-0.9756604</td><td> 1.1220012</td><td>-0.4398037</td><td> 0.1546966</td></tr>\n",
       "\t<tr><th scope=row>Alaska</th><td>-1.9305379</td><td> 1.0624269</td><td> 2.0195003</td><td>-0.4341755</td></tr>\n",
       "\t<tr><th scope=row>Arizona</th><td>-1.74544285</td><td>-0.73845954</td><td> 0.05423025</td><td>-0.82626424</td></tr>\n",
       "\t<tr><th scope=row>Arkansas</th><td> 0.1399989</td><td> 1.1085423</td><td> 0.1134222</td><td>-0.1809736</td></tr>\n",
       "\t<tr><th scope=row>California</th><td>-2.4986128</td><td>-1.5274267</td><td> 0.5925410</td><td>-0.3385592</td></tr>\n",
       "\t<tr><th scope=row>Colorado</th><td>-1.499340737</td><td>-0.977629657</td><td> 1.084001617</td><td> 0.001450164</td></tr>\n",
       "</tbody>\n",
       "</table>\n"
      ],
      "text/latex": [
       "\\begin{tabular}{r|llll}\n",
       "  & PC1 & PC2 & PC3 & PC4\\\\\n",
       "\\hline\n",
       "\tAlabama & -0.9756604 &  1.1220012 & -0.4398037 &  0.1546966\\\\\n",
       "\tAlaska & -1.9305379 &  1.0624269 &  2.0195003 & -0.4341755\\\\\n",
       "\tArizona & -1.74544285 & -0.73845954 &  0.05423025 & -0.82626424\\\\\n",
       "\tArkansas &  0.1399989 &  1.1085423 &  0.1134222 & -0.1809736\\\\\n",
       "\tCalifornia & -2.4986128 & -1.5274267 &  0.5925410 & -0.3385592\\\\\n",
       "\tColorado & -1.499340737 & -0.977629657 &  1.084001617 &  0.001450164\\\\\n",
       "\\end{tabular}\n"
      ],
      "text/markdown": [
       "1. -0.975660448333605\n",
       "2. -1.93053787851368\n",
       "3. -1.7454428533906\n",
       "4. 0.139998944348595\n",
       "5. -2.49861284825858\n",
       "6. -1.49934073746552\n",
       "7. 1.12200121043341\n",
       "8. 1.06242691953445\n",
       "9. -0.738459537284998\n",
       "10. 1.10854225950591\n",
       "11. -1.52742672082479\n",
       "12. -0.977629656524983\n",
       "13. -0.439803661285308\n",
       "14. 2.01950026646312\n",
       "15. 0.0542302493041439\n",
       "16. 0.113422168237126\n",
       "17. 0.592540999822734\n",
       "18. 1.08400161730102\n",
       "19. 0.154696580989146\n",
       "20. -0.434175454303896\n",
       "21. -0.826264239801615\n",
       "22. -0.180973554221139\n",
       "23. -0.338559240016013\n",
       "24. 0.00145016417331417\n",
       "\n",
       "\n"
      ],
      "text/plain": [
       "                  PC1        PC2         PC3          PC4\n",
       "Alabama    -0.9756604  1.1220012 -0.43980366  0.154696581\n",
       "Alaska     -1.9305379  1.0624269  2.01950027 -0.434175454\n",
       "Arizona    -1.7454429 -0.7384595  0.05423025 -0.826264240\n",
       "Arkansas    0.1399989  1.1085423  0.11342217 -0.180973554\n",
       "California -2.4986128 -1.5274267  0.59254100 -0.338559240\n",
       "Colorado   -1.4993407 -0.9776297  1.08400162  0.001450164"
      ]
     },
     "execution_count": 38,
     "metadata": {},
     "output_type": "execute_result"
    }
   ],
   "source": [
    "head(prcomp(USArrests, scale=TRUE)$x)"
   ]
  },
  {
   "cell_type": "markdown",
   "metadata": {},
   "source": [
    "<p>3.  La fonction gsvd réalise la décomposition en valeur singulières généralisée d'une matrice réelle Z de dimension nxp avec des métriques diagonales N=diag(r) sur Rn et M = diag(c) sur Rp.</p>"
   ]
  },
  {
   "cell_type": "code",
   "execution_count": 50,
   "metadata": {
    "collapsed": false
   },
   "outputs": [],
   "source": [
    "#fonction gsvd generalisée avec métriques diagonales\n",
    "\n",
    "gsvd <- function(Z, r, c){\n",
    "#---------entree---------    \n",
    "# Z matrice numérique de dimension (n,p) et de rang k\n",
    "# r poids de la métrique des lignes N=diag(r)\n",
    "# c poids de la métrique des colonnes N=diag(c)\n",
    "    \n",
    "#---------sortie---------\n",
    "# d vecteur de taille contenant les valeurs singulières (racine carres des valeurs propres)\n",
    "# U matrice de dimension (n, k) des vecteurs propres de ZMZ'N\n",
    "# V matrice de dimansion (p, k) des vecteurs propres de Z'NZM \n",
    "#------------------------    \n",
    "    \n",
    "    k<-qr(Z)$rank;\n",
    "    colnames<-colnames(Z);\n",
    "    rownames<-rownames(Z);\n",
    "    Z <- as.matrix(Z);\n",
    "    Ztilde<-diag(sqrt(r)) %*% Z %*% diag(sqrt(c));\n",
    "    \n",
    "    e<-svd(Ztilde);\n",
    "    U<-diag(1/sqrt(r)) %*% e$u[,1:k] #Attention ne s'ecrit pas que comme cela que parceque N et M sont diagonales\n",
    "    V<-diag(1/sqrt(c)) %*%e$v[,1:k]\n",
    "    d<-e$d[1:k]\n",
    "    \n",
    "    rownames(U)<-rownames\n",
    "    rownames(V)<-colnames\n",
    "    \n",
    "    if(length(d>1))\n",
    "        colnames(U)<-colnames(V)<-paste(\"dim\", 1:k, sep=\"\")\n",
    "        \n",
    "    return(list(U=U, V=V, d=d))      \n",
    "}"
   ]
  },
  {
   "cell_type": "markdown",
   "metadata": {},
   "source": [
    "<p>a. on standardise les données de USArrests, c'est à dire on met sous forme d'une matrice Z</p>"
   ]
  },
  {
   "cell_type": "code",
   "execution_count": 51,
   "metadata": {
    "collapsed": true
   },
   "outputs": [],
   "source": [
    "Z<-scale(USArrests)"
   ]
  },
  {
   "cell_type": "markdown",
   "metadata": {},
   "source": [
    "<p>b. Composantes principales de l'ACP </p>"
   ]
  },
  {
   "cell_type": "code",
   "execution_count": 57,
   "metadata": {
    "collapsed": false
   },
   "outputs": [],
   "source": [
    "r<-rep(1/nrow(Z), nrow(Z)) #lignes pondérees par 1/n\n",
    "c<-rep(1, ncol(Z)) #colonnes pondérées par 1\n",
    "U <- gsvd(Z, r, c)$U\n",
    "d <- gsvd(Z,r,c)$d"
   ]
  },
  {
   "cell_type": "code",
   "execution_count": 58,
   "metadata": {
    "collapsed": false
   },
   "outputs": [
    {
     "data": {
      "text/html": [
       "<table>\n",
       "<tbody>\n",
       "\t<tr><th scope=row>Alabama</th><td>-0.9756604</td><td> 1.1220012</td><td>-0.4398037</td><td> 0.1546966</td></tr>\n",
       "\t<tr><th scope=row>Alaska</th><td>-1.9305379</td><td> 1.0624269</td><td> 2.0195003</td><td>-0.4341755</td></tr>\n",
       "\t<tr><th scope=row>Arizona</th><td>-1.74544285</td><td>-0.73845954</td><td> 0.05423025</td><td>-0.82626424</td></tr>\n",
       "\t<tr><th scope=row>Arkansas</th><td> 0.1399989</td><td> 1.1085423</td><td> 0.1134222</td><td>-0.1809736</td></tr>\n",
       "\t<tr><th scope=row>California</th><td>-2.4986128</td><td>-1.5274267</td><td> 0.5925410</td><td>-0.3385592</td></tr>\n",
       "\t<tr><th scope=row>Colorado</th><td>-1.499340737</td><td>-0.977629657</td><td> 1.084001617</td><td> 0.001450164</td></tr>\n",
       "</tbody>\n",
       "</table>\n"
      ],
      "text/latex": [
       "\\begin{tabular}{r|llll}\n",
       "\tAlabama & -0.9756604 &  1.1220012 & -0.4398037 &  0.1546966\\\\\n",
       "\tAlaska & -1.9305379 &  1.0624269 &  2.0195003 & -0.4341755\\\\\n",
       "\tArizona & -1.74544285 & -0.73845954 &  0.05423025 & -0.82626424\\\\\n",
       "\tArkansas &  0.1399989 &  1.1085423 &  0.1134222 & -0.1809736\\\\\n",
       "\tCalifornia & -2.4986128 & -1.5274267 &  0.5925410 & -0.3385592\\\\\n",
       "\tColorado & -1.499340737 & -0.977629657 &  1.084001617 &  0.001450164\\\\\n",
       "\\end{tabular}\n"
      ],
      "text/markdown": [
       "1. -0.975660448333607\n",
       "2. -1.93053787851368\n",
       "3. -1.7454428533906\n",
       "4. 0.139998944348595\n",
       "5. -2.49861284825858\n",
       "6. -1.49934073746552\n",
       "7. 1.12200121043341\n",
       "8. 1.06242691953445\n",
       "9. -0.738459537284997\n",
       "10. 1.10854225950591\n",
       "11. -1.52742672082479\n",
       "12. -0.977629656524982\n",
       "13. -0.439803661285306\n",
       "14. 2.01950026646312\n",
       "15. 0.0542302493041438\n",
       "16. 0.113422168237126\n",
       "17. 0.592540999822733\n",
       "18. 1.08400161730102\n",
       "19. 0.154696580989144\n",
       "20. -0.434175454303894\n",
       "21. -0.826264239801614\n",
       "22. -0.180973554221139\n",
       "23. -0.338559240016013\n",
       "24. 0.00145016417331491\n",
       "\n",
       "\n"
      ],
      "text/plain": [
       "                 [,1]       [,2]        [,3]         [,4]\n",
       "Alabama    -0.9756604  1.1220012 -0.43980366  0.154696581\n",
       "Alaska     -1.9305379  1.0624269  2.01950027 -0.434175454\n",
       "Arizona    -1.7454429 -0.7384595  0.05423025 -0.826264240\n",
       "Arkansas    0.1399989  1.1085423  0.11342217 -0.180973554\n",
       "California -2.4986128 -1.5274267  0.59254100 -0.338559240\n",
       "Colorado   -1.4993407 -0.9776297  1.08400162  0.001450164"
      ]
     },
     "execution_count": 58,
     "metadata": {},
     "output_type": "execute_result"
    }
   ],
   "source": [
    "PSI <- U %*% diag(d) #matrice des coordonnees factorielles des lignes\n",
    "head(PSI)"
   ]
  },
  {
   "cell_type": "markdown",
   "metadata": {},
   "source": [
    "<p> On a quasiment les même valeurs que avec prcomp et princomp</p>"
   ]
  },
  {
   "cell_type": "code",
   "execution_count": 63,
   "metadata": {
    "collapsed": false
   },
   "outputs": [
    {
     "ename": "ERROR",
     "evalue": "Error in library(FactoMineR): there is no package called 'FactoMineR'\n",
     "output_type": "error",
     "traceback": [
      "Error in library(FactoMineR): there is no package called 'FactoMineR'\n"
     ]
    }
   ],
   "source": [
    "library(FactoMineR)"
   ]
  },
  {
   "cell_type": "markdown",
   "metadata": {},
   "source": [
    "<h2>II. Données Smoke</h2>"
   ]
  },
  {
   "cell_type": "code",
   "execution_count": 64,
   "metadata": {
    "collapsed": false
   },
   "outputs": [
    {
     "ename": "ERROR",
     "evalue": "Error in library(ca): there is no package called 'ca'\n",
     "output_type": "error",
     "traceback": [
      "Error in library(ca): there is no package called 'ca'\n"
     ]
    }
   ],
   "source": [
    "library(ca)"
   ]
  },
  {
   "cell_type": "code",
   "execution_count": null,
   "metadata": {
    "collapsed": true
   },
   "outputs": [],
   "source": []
  }
 ],
 "metadata": {
  "kernelspec": {
   "display_name": "R",
   "language": "R",
   "name": "ir"
  },
  "language_info": {
   "codemirror_mode": "r",
   "file_extension": ".r",
   "mimetype": "text/x-r-source",
   "name": "R",
   "pygments_lexer": "r",
   "version": "3.2.2"
  }
 },
 "nbformat": 4,
 "nbformat_minor": 0
}
